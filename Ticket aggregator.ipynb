{
 "cells": [
  {
   "cell_type": "markdown",
   "id": "d3919098",
   "metadata": {},
   "source": [
    "# Program 1"
   ]
  },
  {
   "cell_type": "code",
   "execution_count": 1,
   "id": "8393ff49",
   "metadata": {},
   "outputs": [
    {
     "name": "stdout",
     "output_type": "stream",
     "text": [
      "Input the ticket price ($): 199\n",
      "Input the number of transfers: 2\n",
      "Refund included (\"Yes - 1\" or \"No - 0\"): 0\n",
      "Luggage included: (\"Yes - 1\" or \"No - 1\"): 0\n",
      "Checking your offer...\n",
      "Other\n"
     ]
    }
   ],
   "source": [
    "ticket_price = float(input('Input the ticket price ($): '))\n",
    "\n",
    "num_transfers = int(input('Input the number of transfers: '))\n",
    "\n",
    "refund = int(input('Refund included (\"Yes - 1\" or \"No - 0\"): '))\n",
    "if refund == 0:\n",
    "    luggage = int(input('Luggage included: (\"Yes - 1\" or \"No - 1\"): '))\n",
    "    if luggage == 0 or 1:\n",
    "        print('Checking your offer...')\n",
    "    else:\n",
    "        print('Data Error')\n",
    "        exit()\n",
    "elif refund == 1:\n",
    "    luggage = int(input('Luggage included: (\"Yes - 1\" or \"No - 0\"): '))\n",
    "    if luggage == 0 or 1:\n",
    "        print('Checking your offer...')\n",
    "    else:\n",
    "        print('Data Error')\n",
    "        exit()\n",
    "else:\n",
    "    print('Data Error')\n",
    "    exit()\n",
    "\n",
    "if ticket_price < 200:\n",
    "    if num_transfers <= 1:\n",
    "        if refund != 1:\n",
    "            print('Other')\n",
    "        else:\n",
    "            if luggage == 1:\n",
    "                print('The best offer')\n",
    "            else:\n",
    "                print('Other')\n",
    "    else:\n",
    "        print('Other')\n",
    "elif 200 <= ticket_price <= 250:\n",
    "    if num_transfers <= 2:\n",
    "        print('The good enough offer')\n",
    "    else:\n",
    "        print('Other')\n",
    "elif ticket_price > 250:\n",
    "    if num_transfers <= 3:\n",
    "        print('The bad offer')\n",
    "    else:\n",
    "        print('Other')\n",
    "else:\n",
    "    print('Other')"
   ]
  },
  {
   "cell_type": "markdown",
   "id": "d9a3032f",
   "metadata": {},
   "source": [
    "# Description (adv & disadv)"
   ]
  },
  {
   "cell_type": "markdown",
   "id": "0c265366",
   "metadata": {},
   "source": [
    "The airfare aggregator, based on the given criteria has both advantages and disadvantages.\n",
    "On the one hand, these 4 criteria cover the most popular users' filters. Ticket prices often influence dramatically on the users' decision for the purchase - it is used to be one of the most popular criteria on ticket aggregators. The same is with the number of transfers - the fewer number of transfers the more convenient the trip. Of course, there are might be exceptions, but a significant number of users prefer direct flies.\n",
    "On the other hand, there are some disadvantages to these criteria. The number of transfers doesn't take into consideration the airport change. For example, it might be one transfer with a stopover in Istanbul, which may require airport change from Ataturk to Sabkha. This airport change might be not only inconvenient but requires extra time and money. The luggage also might be weak criteria because some air companies have special offers for the luggage or extra luggage - sometimes it may be cheaper to buy luggage as an extra feature.\n",
    "The given criteria seem convincing to me. According to my previous experience, this classification is near to real-life travel aggregators logic. In addition, I also used to check the duration of stopovers, and also one of the most demanded features - is the price changing within 3 days for the best offer search."
   ]
  },
  {
   "cell_type": "markdown",
   "id": "261f67f3",
   "metadata": {},
   "source": [
    "# My criteria"
   ]
  },
  {
   "cell_type": "markdown",
   "id": "c6f78f66",
   "metadata": {},
   "source": [
    "The covid pandemia influenced traveling a lot. Ticket aggregators have to implement new classification based on the new reality where we have to take into consideration such phenomenons as safety, restrictions, and vaccination. \n",
    "I suggest the following criteria for classification. \"The safest\": without nightover (transfer at night), without airport change, the average aircraft age is less than 5 years and no covid-restrictions at the destination point. \"Normal\": 1 or less nightovers, 1 or less airport change, the average aircraft age is from 5 to 7 years and no covid-restrictions. And \"The unsafe\": 1 or more nightovers, 2 or more airport changes and the average aircraft age is more than 7 years there are may be covid-restrictions at the destination point. The unclassified ones are considered in the \"Other\" category. "
   ]
  },
  {
   "cell_type": "markdown",
   "id": "7bae8fdc",
   "metadata": {},
   "source": [
    "# My program"
   ]
  },
  {
   "cell_type": "code",
   "execution_count": 5,
   "id": "5db51faf",
   "metadata": {},
   "outputs": [
    {
     "name": "stdout",
     "output_type": "stream",
     "text": [
      "Input the number of night stopovers: 1\n",
      "Input the number of airport changes: 1\n",
      "Input the average aircraft age: 34\n",
      "Covid restrictions (\"Yes - 1\" or \"No - 0\"): 65\n",
      "Data Error\n",
      "Check Data\n"
     ]
    }
   ],
   "source": [
    "nightover = int(input('Input the number of night stopovers: '))\n",
    "\n",
    "airport_change = int(input('Input the number of airport changes: '))\n",
    "\n",
    "aircraft_age = int(input('Input the average aircraft age: '))\n",
    "\n",
    "covid_rest = int(input('Covid restrictions (\"Yes - 1\" or \"No - 0\"): '))\n",
    "\n",
    "if covid_rest == 0:\n",
    "    print('Checking your offer...')\n",
    "elif covid_rest == 1:\n",
    "    print('Checking your offer...')\n",
    "else:\n",
    "    print('Data Error')\n",
    "    exit()\n",
    "\n",
    "if covid_rest == 0:\n",
    "    if aircraft_age < 5:\n",
    "        if nightover == 0:\n",
    "            if airport_change == 0:\n",
    "                print('The safest')\n",
    "            else:\n",
    "                print('Other')\n",
    "        else:\n",
    "            print('Other')\n",
    "    elif 5 <= aircraft_age <= 7:\n",
    "        if nightover <= 1:\n",
    "            if airport_change <= 1:\n",
    "                print('Normal')\n",
    "            else:\n",
    "                print('Other')\n",
    "        else:\n",
    "            print('Other')\n",
    "    elif aircraft_age > 7:\n",
    "        if nightover > 1:\n",
    "            if airport_change >= 2:\n",
    "                print('The unsafe')\n",
    "            else:\n",
    "                print('Other')\n",
    "        else:\n",
    "            print('Other')\n",
    "    else:\n",
    "        print('Other')\n",
    "elif covid_rest == 1:\n",
    "    if aircraft_age > 7:\n",
    "        if nightover > 1:\n",
    "            if airport_change >= 2:\n",
    "                print('The unsafe')\n",
    "            else:\n",
    "                print('Other')\n",
    "        else:\n",
    "            print('Other')\n",
    "    else:\n",
    "        print('Other')\n",
    "else:\n",
    "    print('Check Data')"
   ]
  }
 ],
 "metadata": {
  "kernelspec": {
   "display_name": "Python 3",
   "language": "python",
   "name": "python3"
  },
  "language_info": {
   "codemirror_mode": {
    "name": "ipython",
    "version": 3
   },
   "file_extension": ".py",
   "mimetype": "text/x-python",
   "name": "python",
   "nbconvert_exporter": "python",
   "pygments_lexer": "ipython3",
   "version": "3.8.8"
  }
 },
 "nbformat": 4,
 "nbformat_minor": 5
}
